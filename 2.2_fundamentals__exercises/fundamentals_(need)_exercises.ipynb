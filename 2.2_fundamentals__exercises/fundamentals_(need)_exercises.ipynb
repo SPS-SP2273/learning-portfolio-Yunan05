{
 "cells": [
  {
   "attachments": {},
   "cell_type": "markdown",
   "id": "123456",
   "metadata": {},
   "source": [
    "<div style=\"text-align:left;font-size:2em\"><span style=\"font-weight:bolder;font-size:1.25em\">SP2273 | Learning Portfolio</span><br><br><span style=\"font-weight:bold;color:darkred\">Fundamentals (Need) Exercises</span></div>"
   ]
  },
  {
   "cell_type": "markdown",
   "id": "0229a238",
   "metadata": {},
   "source": [
    "a function is a command that tells python to execute a specific task\n",
    "\n",
    "Parentheses () are used in every functions\n",
    "\n",
    "Python is case-sensitive (print() ≠ Print())\n",
    "\n",
    "Python is interpreted which means one command at a time only\n",
    "\n",
    "Comments can be written with #\n",
    "\n",
    "Use = for assignment and == for comparison\n",
    "\n",
    "Use if...else for decision-making\n",
    "\n",
    "Indentation matters, which means no mixing of tabs and spaces.\n",
    "\n",
    "Variables can hold values and it can be any name. Be sure to name it clearly for easier application in the future\n",
    "\n",
    "*Brackets:*\n",
    "\n",
    "() for functions/math\n",
    "\n",
    "[] for lists\n",
    "\n",
    "*{} for dictionaries*\n",
    "\n",
    "Can define your own functions\n",
    "\n",
    "Python has built-in functions\n",
    "\n",
    "Import packages using import\n",
    "\n",
    "*Can use aliases* \n",
    "\n",
    "Use . (dot notation) to access module functions or object methods\n",
    "\n",
    "a module needs to be only imported once."
   ]
  },
  {
   "cell_type": "code",
   "execution_count": 13,
   "id": "aeefe320",
   "metadata": {},
   "outputs": [],
   "source": [
    "import math"
   ]
  },
  {
   "cell_type": "code",
   "execution_count": 18,
   "id": "92dc7fb4",
   "metadata": {},
   "outputs": [
    {
     "name": "stdout",
     "output_type": "stream",
     "text": [
      "3 4 5.0\n"
     ]
    }
   ],
   "source": [
    "\n",
    "\n",
    "x, y = 3, 4\n",
    "z = math.sqrt(x**2 + y**2)\n",
    "print(x, y, z)\n"
   ]
  },
  {
   "cell_type": "markdown",
   "id": "7c817af8",
   "metadata": {},
   "source": [
    "| #  | Term        | Description                                                                 |\n",
    "|----|-------------|-----------------------------------------------------------------------------|\n",
    "| 1  | Function    | A reusable block of code that performs a specific task when called.         |\n",
    "| 2  | Arguments   | The values or data you pass into a function to work with.                   |\n",
    "| 3  | Comments    | Notes in the code that Python ignores, used to explain what the code does.  |\n",
    "| 4  | Indentations| Spaces or tabs used to define blocks of code.|\n",
    "| 5  | Packages    | Add-on tools that extend Python's abilities, like math or data analysis.    |\n",
    "| 6  | . (dot)     | Used to access functions or attributes that belong to an object or module.  |\n",
    "| 7  | : (colon)   | Signals the start of a block of code.      |\n",
    "| 8  | []          | Used to define a list — a collection of items.                              |\n",
    "| 9  | [[], []]    | A list of lists — useful for making tables, grids, or 2D data.              |\n",
    "| 10 | {}          | Used to define a dictionary — a collection of key-value pairs.              |\n"
   ]
  },
  {
   "cell_type": "code",
   "execution_count": 22,
   "id": "45bc1a98",
   "metadata": {},
   "outputs": [
    {
     "data": {
      "text/plain": [
       "2.5"
      ]
     },
     "execution_count": 22,
     "metadata": {},
     "output_type": "execute_result"
    }
   ],
   "source": [
    "5/2           # `regular division which includes the decimal`"
   ]
  },
  {
   "cell_type": "code",
   "execution_count": 23,
   "id": "41957b04",
   "metadata": {},
   "outputs": [
    {
     "data": {
      "text/plain": [
       "2"
      ]
     },
     "execution_count": 23,
     "metadata": {},
     "output_type": "execute_result"
    }
   ],
   "source": [
    "5//2          # floor division which removes the decimal"
   ]
  },
  {
   "cell_type": "code",
   "execution_count": 24,
   "id": "82a9bbd4",
   "metadata": {},
   "outputs": [
    {
     "data": {
      "text/plain": [
       "1"
      ]
     },
     "execution_count": 24,
     "metadata": {},
     "output_type": "execute_result"
    }
   ],
   "source": [
    "5%2           # modulus which gives the remainder"
   ]
  }
 ],
 "metadata": {
  "kernelspec": {
   "display_name": "base",
   "language": "python",
   "name": "python3"
  },
  "language_info": {
   "codemirror_mode": {
    "name": "ipython",
    "version": 3
   },
   "file_extension": ".py",
   "mimetype": "text/x-python",
   "name": "python",
   "nbconvert_exporter": "python",
   "pygments_lexer": "ipython3",
   "version": "3.13.5"
  },
  "toc": {
   "base_numbering": 1,
   "nav_menu": {},
   "number_sections": true,
   "sideBar": true,
   "skip_h1_title": false,
   "title_cell": "Table of Contents",
   "title_sidebar": "Contents",
   "toc_cell": false,
   "toc_position": {},
   "toc_section_display": true,
   "toc_window_display": false
  }
 },
 "nbformat": 4,
 "nbformat_minor": 5
}
