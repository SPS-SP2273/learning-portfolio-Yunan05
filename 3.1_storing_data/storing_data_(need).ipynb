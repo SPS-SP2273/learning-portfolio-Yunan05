{
 "cells": [
  {
   "attachments": {},
   "cell_type": "markdown",
   "id": "123456",
   "metadata": {},
   "source": [
    "<div style=\"text-align:left;font-size:2em\"><span style=\"font-weight:bolder;font-size:1.25em\">SP2273 | Learning Portfolio</span><br><br><span style=\"font-weight:bold;color:darkred\">Storing Data (Need)</span></div>"
   ]
  },
  {
   "attachments": {},
   "cell_type": "markdown",
   "id": "123456",
   "metadata": {},
   "source": [
    "# What to expect in this chapter"
   ]
  },
  {
   "attachments": {},
   "cell_type": "markdown",
   "id": "123456",
   "metadata": {},
   "source": [
    "# 1 Lists, Arrays & Dictionaries"
   ]
  },
  {
   "cell_type": "code",
   "execution_count": null,
   "id": "514685aa",
   "metadata": {},
   "outputs": [],
   "source": []
  },
  {
   "cell_type": "code",
   "execution_count": 1,
   "id": "973a6e23",
   "metadata": {},
   "outputs": [],
   "source": [
    "real_names=['shabi','naocan','zazhong']"
   ]
  },
  {
   "cell_type": "code",
   "execution_count": 3,
   "id": "8c70f0ad",
   "metadata": {},
   "outputs": [
    {
     "name": "stdout",
     "output_type": "stream",
     "text": [
      "shabi\n"
     ]
    }
   ],
   "source": [
    "print(real_names[0])"
   ]
  },
  {
   "cell_type": "code",
   "execution_count": 10,
   "id": "6f10cfd4",
   "metadata": {},
   "outputs": [],
   "source": [
    "heimingdan={\n",
    "    \"shabi\": \"laoshi\",\n",
    "    \"naocan\": \"xuesheng\",\n",
    "    \"zazhong\": \"zhujiao\"\n",
    "}"
   ]
  },
  {
   "cell_type": "code",
   "execution_count": 15,
   "id": "51a6d0de",
   "metadata": {},
   "outputs": [
    {
     "data": {
      "text/plain": [
       "'zhujiao'"
      ]
     },
     "execution_count": 15,
     "metadata": {},
     "output_type": "execute_result"
    }
   ],
   "source": [
    "heimingdan['zazhong']"
   ]
  },
  {
   "cell_type": "code",
   "execution_count": 19,
   "id": "cba7353c",
   "metadata": {},
   "outputs": [],
   "source": [
    "superhero_names=[['natasha romanoff','black widow',\n",
    "'tony stark','iron man']]"
   ]
  },
  {
   "cell_type": "code",
   "execution_count": 20,
   "id": "8e0343f9",
   "metadata": {},
   "outputs": [
    {
     "data": {
      "text/plain": [
       "['natasha romanoff', 'black widow', 'tony stark', 'iron man']"
      ]
     },
     "execution_count": 20,
     "metadata": {},
     "output_type": "execute_result"
    }
   ],
   "source": [
    "superhero_names[0]"
   ]
  },
  {
   "attachments": {},
   "cell_type": "markdown",
   "id": "123456",
   "metadata": {},
   "source": [
    "## 1.1 Let’s compare"
   ]
  },
  {
   "attachments": {},
   "cell_type": "markdown",
   "id": "123456",
   "metadata": {},
   "source": [
    "## 1.2 Accessing data from a list (or array)"
   ]
  },
  {
   "attachments": {},
   "cell_type": "markdown",
   "id": "123456",
   "metadata": {},
   "source": [
    "## 1.3 Accessing data from a dictionary"
   ]
  },
  {
   "attachments": {},
   "cell_type": "markdown",
   "id": "123456",
   "metadata": {},
   "source": [
    "## 1.4 Higher dimensional lists"
   ]
  },
  {
   "attachments": {},
   "cell_type": "markdown",
   "id": "123456",
   "metadata": {},
   "source": [
    "# 2 Lists vs. Arrays"
   ]
  },
  {
   "attachments": {},
   "cell_type": "markdown",
   "id": "123456",
   "metadata": {},
   "source": [
    "## 2.1 Size"
   ]
  },
  {
   "attachments": {},
   "cell_type": "markdown",
   "id": "123456",
   "metadata": {},
   "source": [
    "## 2.2 Arrays are fussy about type"
   ]
  },
  {
   "attachments": {},
   "cell_type": "markdown",
   "id": "123456",
   "metadata": {},
   "source": [
    "## 2.3 Adding a number"
   ]
  },
  {
   "attachments": {},
   "cell_type": "markdown",
   "id": "123456",
   "metadata": {},
   "source": [
    "## 2.4 Adding another list"
   ]
  },
  {
   "attachments": {},
   "cell_type": "markdown",
   "id": "123456",
   "metadata": {},
   "source": [
    "## 2.5 Multiplying by a Number"
   ]
  },
  {
   "attachments": {},
   "cell_type": "markdown",
   "id": "123456",
   "metadata": {},
   "source": [
    "## 2.6 Squaring"
   ]
  },
  {
   "attachments": {},
   "cell_type": "markdown",
   "id": "123456",
   "metadata": {},
   "source": [
    "## 2.7 Asking questions"
   ]
  },
  {
   "attachments": {},
   "cell_type": "markdown",
   "id": "123456",
   "metadata": {},
   "source": [
    "## 2.8 Mathematics"
   ]
  },
  {
   "attachments": {},
   "cell_type": "markdown",
   "id": "123456",
   "metadata": {},
   "source": [
    "## Footnotes"
   ]
  }
 ],
 "metadata": {
  "kernelspec": {
   "display_name": "base",
   "language": "python",
   "name": "python3"
  },
  "language_info": {
   "codemirror_mode": {
    "name": "ipython",
    "version": 3
   },
   "file_extension": ".py",
   "mimetype": "text/x-python",
   "name": "python",
   "nbconvert_exporter": "python",
   "pygments_lexer": "ipython3",
   "version": "3.13.5"
  },
  "toc": {
   "base_numbering": 1,
   "nav_menu": {},
   "number_sections": true,
   "sideBar": true,
   "skip_h1_title": false,
   "title_cell": "Table of Contents",
   "title_sidebar": "Contents",
   "toc_cell": false,
   "toc_position": {},
   "toc_section_display": true,
   "toc_window_display": false
  }
 },
 "nbformat": 4,
 "nbformat_minor": 5
}
