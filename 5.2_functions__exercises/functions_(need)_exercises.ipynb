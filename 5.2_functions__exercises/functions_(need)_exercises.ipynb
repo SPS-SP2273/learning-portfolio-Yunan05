{
 "cells": [
  {
   "attachments": {},
   "cell_type": "markdown",
   "id": "123456",
   "metadata": {},
   "source": [
    "<div style=\"text-align:left;font-size:2em\"><span style=\"font-weight:bolder;font-size:1.25em\">SP2273 | Learning Portfolio</span><br><br><span style=\"font-weight:bold;color:darkred\">Functions (Need) Exercises</span></div>"
   ]
  },
  {
   "cell_type": "markdown",
   "id": "bd5a71f0",
   "metadata": {},
   "source": [
    "The `greeting` function works as expected without an `else` statement because the `return` keyword immediately exits the function once it is executed.  \n",
    "\n",
    "If `name == 'Batman'`, the function returns the special greeting and stops.  \n",
    "\n",
    "If not, the first `if` condition is skipped, and the function continues to the next line, where it returns the general greeting.  \n",
    "\n",
    "Thus, the final `return` acts as the \"default\" case without needing an explicit `else`.\n"
   ]
  },
  {
   "cell_type": "code",
   "execution_count": 4,
   "id": "00f01e6b",
   "metadata": {},
   "outputs": [
    {
     "name": "stdout",
     "output_type": "stream",
     "text": [
      "Normal weight (BMI: 22.9)\n"
     ]
    }
   ],
   "source": [
    "def calculate_bmi(weight, height):\n",
    "    bmi = weight / (height ** 2)\n",
    "    if bmi < 18.5:\n",
    "        return f\"Underweight (BMI: {bmi:.1f})\"\n",
    "    elif 18.5 <= bmi <= 24.9:\n",
    "        return f\"Normal weight (BMI: {bmi:.1f})\"\n",
    "    elif 25 <= bmi <= 29.9:\n",
    "        return f\"Overweight (BMI: {bmi:.1f})\"\n",
    "    else:\n",
    "        return f\"Obese (BMI: {bmi:.1f})\"\n",
    "\n",
    "print(calculate_bmi(70, 1.75))\n"
   ]
  },
  {
   "cell_type": "code",
   "execution_count": 5,
   "id": "0637f552",
   "metadata": {},
   "outputs": [
    {
     "name": "stdout",
     "output_type": "stream",
     "text": [
      "120\n"
     ]
    }
   ],
   "source": [
    "def factorial(n):\n",
    "    if n < 0:\n",
    "        return \"Factorial is not defined for negative numbers.\"\n",
    "    elif n == 0 or n == 1:\n",
    "        return 1\n",
    "    else:\n",
    "        result = 1\n",
    "        for i in range(2, n+1):\n",
    "            result *= i\n",
    "        return result\n",
    "\n",
    "\n",
    "print(factorial(5))   \n",
    "\n"
   ]
  }
 ],
 "metadata": {
  "kernelspec": {
   "display_name": "base",
   "language": "python",
   "name": "python3"
  },
  "language_info": {
   "codemirror_mode": {
    "name": "ipython",
    "version": 3
   },
   "file_extension": ".py",
   "mimetype": "text/x-python",
   "name": "python",
   "nbconvert_exporter": "python",
   "pygments_lexer": "ipython3",
   "version": "3.13.5"
  },
  "toc": {
   "base_numbering": 1,
   "nav_menu": {},
   "number_sections": true,
   "sideBar": true,
   "skip_h1_title": false,
   "title_cell": "Table of Contents",
   "title_sidebar": "Contents",
   "toc_cell": false,
   "toc_position": {},
   "toc_section_display": true,
   "toc_window_display": false
  }
 },
 "nbformat": 4,
 "nbformat_minor": 5
}
