{
 "cells": [
  {
   "attachments": {},
   "cell_type": "markdown",
   "id": "123456",
   "metadata": {},
   "source": [
    "<div style=\"text-align:left;font-size:2em\"><span style=\"font-weight:bolder;font-size:1.25em\">SP2273 | Learning Portfolio</span><br><br><span style=\"font-weight:bold;color:darkred\">Functions (Good) Exercises</span></div>"
   ]
  },
  {
   "cell_type": "code",
   "execution_count": 1,
   "id": "455fd751",
   "metadata": {},
   "outputs": [
    {
     "name": "stdout",
     "output_type": "stream",
     "text": [
      "373.15\n"
     ]
    }
   ],
   "source": [
    "def convert_celsius(temperature_celsius, target_scale='Fahrenheit'):\n",
    "    if target_scale == 'Kelvin':\n",
    "        return temperature_celsius + 273.15\n",
    "    else: \n",
    "        return (temperature_celsius * 9/5) + 32\n",
    "          \n",
    "print(convert_celsius(100, 'Kelvin')) # 373.15 (Kelvin)\n"
   ]
  },
  {
   "cell_type": "code",
   "execution_count": 3,
   "id": "80ca39bc",
   "metadata": {},
   "outputs": [
    {
     "name": "stdout",
     "output_type": "stream",
     "text": [
      "0.0\n"
     ]
    }
   ],
   "source": [
    "def convert_fahrenheit(temperature_fahrenheit, target_scale='Celsius'):\n",
    "    if target_scale == 'Kelvin':\n",
    "        return (temperature_fahrenheit - 32) * 5/9 + 273.15\n",
    "    else:  \n",
    "        return (temperature_fahrenheit - 32) * 5/9\n",
    "\n",
    "print(convert_fahrenheit(32))             \n",
    "\n"
   ]
  },
  {
   "cell_type": "code",
   "execution_count": 4,
   "id": "e73f414e",
   "metadata": {},
   "outputs": [
    {
     "name": "stdout",
     "output_type": "stream",
     "text": [
      "32.0\n"
     ]
    }
   ],
   "source": [
    "def convert_temperature(temperature, source_scale, target_scale):\n",
    "    \n",
    "    source = source_scale.capitalize()\n",
    "    target = target_scale.capitalize()\n",
    "\n",
    "    if source == 'Celsius':\n",
    "        return convert_celsius(temperature, target)\n",
    "\n",
    "    elif source == 'Fahrenheit':\n",
    "        return convert_fahrenheit(temperature, target)\n",
    "\n",
    "    elif source == 'Kelvin':\n",
    "        if target == 'Celsius':\n",
    "            return temperature - 273.15\n",
    "        elif target == 'Fahrenheit':\n",
    "            return (temperature - 273.15) * 9/5 + 32\n",
    "        else:  \n",
    "            return temperature\n",
    "    else:\n",
    "        raise ValueError(\"Unsupported source scale. Use 'Celsius', 'Fahrenheit', or 'Kelvin'.\")\n",
    "\n",
    "print(convert_temperature(0, 'Celsius', 'Fahrenheit'))   # 32.0\n"
   ]
  }
 ],
 "metadata": {
  "kernelspec": {
   "display_name": "base",
   "language": "python",
   "name": "python3"
  },
  "language_info": {
   "codemirror_mode": {
    "name": "ipython",
    "version": 3
   },
   "file_extension": ".py",
   "mimetype": "text/x-python",
   "name": "python",
   "nbconvert_exporter": "python",
   "pygments_lexer": "ipython3",
   "version": "3.13.5"
  },
  "toc": {
   "base_numbering": 1,
   "nav_menu": {},
   "number_sections": true,
   "sideBar": true,
   "skip_h1_title": false,
   "title_cell": "Table of Contents",
   "title_sidebar": "Contents",
   "toc_cell": false,
   "toc_position": {},
   "toc_section_display": true,
   "toc_window_display": false
  }
 },
 "nbformat": 4,
 "nbformat_minor": 5
}
