{
 "cells": [
  {
   "attachments": {},
   "cell_type": "markdown",
   "id": "123456",
   "metadata": {},
   "source": [
    "<div style=\"text-align:left;font-size:2em\"><span style=\"font-weight:bolder;font-size:1.25em\">SP2273 | Learning Portfolio</span><br><br><span style=\"font-weight:bold;color:darkred\">Storing Data (Good) Exercises</span></div>"
   ]
  },
  {
   "cell_type": "markdown",
   "id": "6378cad1",
   "metadata": {},
   "source": [
    "| **Term**       | **Brief Description**                                                                                    |\n",
    "| -------------- | -------------------------------------------------------------------------------------------------------- |\n",
    "| **Subsetting** | Selecting a portion of a dataset (like specific rows, columns, or values) using conditions or positions. |\n",
    "| **Indexing**   | Accessing elements in a data structure using positions.                     |\n",
    "| **Slicing**    | Selecting a range of elements using notation.                     |\n",
    "| **Masking**    | Using True/False to select or filter elements from an array based on a condition.      |\n"
   ]
  },
  {
   "cell_type": "code",
   "execution_count": 7,
   "id": "f683f9d6",
   "metadata": {},
   "outputs": [
    {
     "name": "stdout",
     "output_type": "stream",
     "text": [
      "['A' 'C' 'E' 'G' 'I']\n"
     ]
    }
   ],
   "source": [
    "import numpy as np\n",
    "\n",
    "np_array_2d = np.array([[1, \"A\"], [3, \"C\"], [2, \"B\"], [4, \"D\"],\n",
    "                        [5, \"E\"], [7, \"G\"], [6, \"F\"], [8, \"H\"],\n",
    "                        [10, \"J\"], [9, \"I\"]])\n",
    "\n",
    "numbers = np_array_2d[:, 0].astype(int)\n",
    "mask = numbers % 2 == 1\n",
    "odd_letters = np_array_2d[mask, 1]\n",
    "\n",
    "print(odd_letters)  # Output: ['A' 'C' 'E' 'G' 'I']\n"
   ]
  },
  {
   "cell_type": "code",
   "execution_count": 8,
   "id": "aeb4298e",
   "metadata": {},
   "outputs": [],
   "source": [
    "import numpy as np\n",
    "\n",
    "arr = np.array([\n",
    "    [66, 50, 57, -1, -1],\n",
    "    [92, -1, 88, -1, -1],\n",
    "    [75, -1, -1, 76, -1],\n",
    "    [-1, 51, 87, -1, -1],\n",
    "    [71, -1, 67, -1, 69]\n",
    "])\n"
   ]
  },
  {
   "cell_type": "code",
   "execution_count": 9,
   "id": "c8d83f14",
   "metadata": {},
   "outputs": [],
   "source": [
    "modified = arr.copy()\n",
    "\n",
    "modified[modified < 50] = -1\n",
    "modified[modified > 50] = 1\n",
    "modified[modified == 50] = 0\n"
   ]
  },
  {
   "cell_type": "code",
   "execution_count": 10,
   "id": "f4f60b34",
   "metadata": {},
   "outputs": [
    {
     "name": "stdout",
     "output_type": "stream",
     "text": [
      "[[ 1  0  1 -1 -1]\n",
      " [ 1 -1  1 -1 -1]\n",
      " [ 1 -1 -1  1 -1]\n",
      " [-1  1  1 -1 -1]\n",
      " [ 1 -1  1 -1  1]]\n"
     ]
    }
   ],
   "source": [
    "print(modified)"
   ]
  }
 ],
 "metadata": {
  "kernelspec": {
   "display_name": "base",
   "language": "python",
   "name": "python3"
  },
  "language_info": {
   "codemirror_mode": {
    "name": "ipython",
    "version": 3
   },
   "file_extension": ".py",
   "mimetype": "text/x-python",
   "name": "python",
   "nbconvert_exporter": "python",
   "pygments_lexer": "ipython3",
   "version": "3.13.5"
  },
  "toc": {
   "base_numbering": 1,
   "nav_menu": {},
   "number_sections": true,
   "sideBar": true,
   "skip_h1_title": false,
   "title_cell": "Table of Contents",
   "title_sidebar": "Contents",
   "toc_cell": false,
   "toc_position": {},
   "toc_section_display": true,
   "toc_window_display": false
  }
 },
 "nbformat": 4,
 "nbformat_minor": 5
}
