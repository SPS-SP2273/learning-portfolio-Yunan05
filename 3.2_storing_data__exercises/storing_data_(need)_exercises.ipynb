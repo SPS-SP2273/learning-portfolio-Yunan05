{
 "cells": [
  {
   "attachments": {},
   "cell_type": "markdown",
   "id": "123456",
   "metadata": {},
   "source": [
    "<div style=\"text-align:left;font-size:2em\"><span style=\"font-weight:bolder;font-size:1.25em\">SP2273 | Learning Portfolio</span><br><br><span style=\"font-weight:bold;color:darkred\">Storing Data (Need) Exercises</span></div>"
   ]
  },
  {
   "cell_type": "markdown",
   "id": "4831c44d",
   "metadata": {},
   "source": [
    "Two similarities between lists and arrays:\n",
    "\n",
    "Both lists and arrays store data in an ordered sequence, meaning each element has a specific position starting from 0.\n",
    "\n",
    "Both are iterable, so I can loop through them using a for loop or access elements using indexing.\n",
    "\n",
    "Two differences between lists and arrays:\n",
    "\n",
    "Lists can store different data types in the same list , while arrays—especially NumPy arrays—require all elements to be of the same data type.\n",
    "\n",
    "Arrays support mathematical operations directly, whereas lists do not support element-wise math operations without looping.\n",
    "\n",
    "What is a dictionary?\n",
    "\n",
    "A dictionary in Python is a collection of data that stores items in key-value pairs. I can access values by referring to their keys instead of using an index."
   ]
  },
  {
   "cell_type": "code",
   "execution_count": 17,
   "id": "03996e8e",
   "metadata": {},
   "outputs": [
    {
     "name": "stdout",
     "output_type": "stream",
     "text": [
      "a1\n",
      "c3\n",
      "e5\n",
      "g7\n",
      "i9\n"
     ]
    }
   ],
   "source": [
    "py_list = [\"a1\", \"b2\", \"c3\", \"d4\", \"e5\", \"f6\", \"g7\", \"h8\", \"i9\", \"j10\"]\n",
    "                    # Prints 'a1'\n",
    "                    # Prints 'c3'\n",
    "                    # Prints 'e5'\n",
    "                    # Prints 'g7'\n",
    "for i in [0,2,4,6,8]:\n",
    "    print(py_list[i])"
   ]
  },
  {
   "cell_type": "code",
   "execution_count": 18,
   "id": "4cd1b853",
   "metadata": {},
   "outputs": [],
   "source": [
    "elements = ['Hydrogen',\n",
    "            'Helium', 'Lithium',\n",
    "            'Beryllium', 'Boron', 'Carbon',\n",
    "            'Nitrogen', 'Oxygen',\n",
    "            'Fluorine',\n",
    "            'Neon']"
   ]
  },
  {
   "cell_type": "code",
   "execution_count": 19,
   "id": "7e89dca1",
   "metadata": {},
   "outputs": [
    {
     "name": "stdout",
     "output_type": "stream",
     "text": [
      "Boron\n"
     ]
    }
   ],
   "source": [
    "print(elements[4])"
   ]
  },
  {
   "cell_type": "code",
   "execution_count": 20,
   "id": "fd9ee9a1",
   "metadata": {},
   "outputs": [
    {
     "name": "stdout",
     "output_type": "stream",
     "text": [
      "Boron\n"
     ]
    }
   ],
   "source": [
    "print(elements[-6])"
   ]
  },
  {
   "cell_type": "code",
   "execution_count": 21,
   "id": "74185184",
   "metadata": {},
   "outputs": [],
   "source": [
    "import numpy as np"
   ]
  },
  {
   "cell_type": "code",
   "execution_count": 22,
   "id": "bc565160",
   "metadata": {},
   "outputs": [],
   "source": [
    "numbers=[45, 60, 1, 30, 96, 1, 96, 57, 16, 1,\n",
    "        99, 62, 86, 43, 42, 60, 59, 1, 1, 35,\n",
    "        83, 47, 34, 28, 68, 23, 22, 92, 1, 79,\n",
    "        1, 29, 94, 72, 46, 47, 1, 74, 32, 20,\n",
    "        8, 37, 35, 1, 89, 29, 86, 19, 43, 61]                  "
   ]
  },
  {
   "cell_type": "code",
   "execution_count": 23,
   "id": "bfcd1d8f",
   "metadata": {},
   "outputs": [],
   "source": [
    "np_array=np.array(numbers)"
   ]
  },
  {
   "cell_type": "code",
   "execution_count": 24,
   "id": "d7afabfb",
   "metadata": {},
   "outputs": [
    {
     "name": "stdout",
     "output_type": "stream",
     "text": [
      "9\n"
     ]
    }
   ],
   "source": [
    "count_ones=np.sum(np_array == 1)\n",
    "print(count_ones)"
   ]
  },
  {
   "cell_type": "code",
   "execution_count": 25,
   "id": "14d14c4f",
   "metadata": {},
   "outputs": [
    {
     "name": "stdout",
     "output_type": "stream",
     "text": [
      "Mean of x1: 38.5\n",
      "Mean of x2: 302.5\n",
      "Standard Deviation of x1: 32.41990129534635\n",
      "Standard Deviation of x2: 326.0893282522444\n",
      "Manual Pearson r: 0.9871796626270702\n",
      "np.corrcoef Pearson r: 0.9871796626270701\n"
     ]
    }
   ],
   "source": [
    "x1 = np.array([1, 4, 9, 16, 25, 36, 49, 64, 81, 100])\n",
    "x2 = np.array([1, 8, 27, 64, 125, 216, 343, 512, 729, 1000])\n",
    "\n",
    "mean_x1 = np.mean(x1)\n",
    "mean_x2 = np.mean(x2)\n",
    "\n",
    "std_x1 = np.std(x1)\n",
    "std_x2 = np.std(x2)\n",
    "\n",
    "covariance = np.mean((x1 - mean_x1) * (x2 - mean_x2))\n",
    "pearson_r = covariance / (std_x1 * std_x2)\n",
    "\n",
    "correlation_matrix = np.corrcoef(x1, x2)\n",
    "np_pearson_r = correlation_matrix[0, 1]\n",
    "\n",
    "print(\"Mean of x1:\", mean_x1)\n",
    "print(\"Mean of x2:\", mean_x2)\n",
    "print(\"Standard Deviation of x1:\", std_x1)\n",
    "print(\"Standard Deviation of x2:\", std_x2)\n",
    "print(\"Manual Pearson r:\", pearson_r)\n",
    "print(\"np.corrcoef Pearson r:\", np_pearson_r)\n"
   ]
  }
 ],
 "metadata": {
  "kernelspec": {
   "display_name": "base",
   "language": "python",
   "name": "python3"
  },
  "language_info": {
   "codemirror_mode": {
    "name": "ipython",
    "version": 3
   },
   "file_extension": ".py",
   "mimetype": "text/x-python",
   "name": "python",
   "nbconvert_exporter": "python",
   "pygments_lexer": "ipython3",
   "version": "3.13.5"
  },
  "toc": {
   "base_numbering": 1,
   "nav_menu": {},
   "number_sections": true,
   "sideBar": true,
   "skip_h1_title": false,
   "title_cell": "Table of Contents",
   "title_sidebar": "Contents",
   "toc_cell": false,
   "toc_position": {},
   "toc_section_display": true,
   "toc_window_display": false
  }
 },
 "nbformat": 4,
 "nbformat_minor": 5
}
