{
 "cells": [
  {
   "attachments": {},
   "cell_type": "markdown",
   "id": "123456",
   "metadata": {},
   "source": [
    "<div style=\"text-align:left;font-size:2em\"><span style=\"font-weight:bolder;font-size:1.25em\">SP2273 | Learning Portfolio</span><br><br><span style=\"font-weight:bold;color:darkred\">Loops (Good) Exercises</span></div>"
   ]
  },
  {
   "cell_type": "code",
   "execution_count": 3,
   "id": "e59ecf0e",
   "metadata": {},
   "outputs": [
    {
     "name": "stdout",
     "output_type": "stream",
     "text": [
      "[1, 9, 25, 49, 81]\n"
     ]
    }
   ],
   "source": [
    "odd_squares = []\n",
    "for n in range(10):\n",
    "    if n % 2 == 0:  \n",
    "        continue\n",
    "    odd_squares.append(n**2)\n",
    "\n",
    "print(odd_squares)\n"
   ]
  },
  {
   "cell_type": "code",
   "execution_count": 4,
   "id": "a6bf026e",
   "metadata": {},
   "outputs": [
    {
     "name": "stdout",
     "output_type": "stream",
     "text": [
      "[1, 9, 25, 49, 81]\n"
     ]
    }
   ],
   "source": [
    "odd_squares_comp = [n**2 for n in range(10) if n % 2 != 0]\n",
    "print(odd_squares_comp)\n"
   ]
  },
  {
   "cell_type": "code",
   "execution_count": 5,
   "id": "79baffb7",
   "metadata": {},
   "outputs": [
    {
     "name": "stdout",
     "output_type": "stream",
     "text": [
      "285 ns ± 6.86 ns per loop (mean ± std. dev. of 7 runs, 1,000,000 loops each)\n"
     ]
    }
   ],
   "source": [
    "%%timeit\n",
    "odd_squares = []\n",
    "for n in range(10):\n",
    "    if n % 2 == 0:\n",
    "        continue\n",
    "    odd_squares.append(n**2)\n"
   ]
  },
  {
   "cell_type": "code",
   "execution_count": 7,
   "id": "cd9ba6f2",
   "metadata": {},
   "outputs": [
    {
     "name": "stdout",
     "output_type": "stream",
     "text": [
      "It takes 14 years for the sample to reduce to half.\n"
     ]
    }
   ],
   "source": [
    "initial = 100\n",
    "amount = initial\n",
    "years = 0\n",
    "\n",
    "while amount > initial / 2:\n",
    "    amount *= 0.95  \n",
    "    years += 1\n",
    "\n",
    "print(f\"It takes {years} years for the sample to reduce to half.\")\n"
   ]
  },
  {
   "cell_type": "code",
   "execution_count": 8,
   "id": "73ca23d1",
   "metadata": {},
   "outputs": [
    {
     "name": "stdout",
     "output_type": "stream",
     "text": [
      "2016: Increase of 3.41 ppm\n"
     ]
    }
   ],
   "source": [
    "co2_data = [\n",
    "    (2000, 369.55), (2001, 371.14), (2002, 373.28), \n",
    "    (2003, 375.80), (2004, 377.52), (2005, 379.80), \n",
    "    (2006, 381.90), (2007, 383.79), (2008, 385.60), \n",
    "    (2009, 387.43), (2010, 389.90), (2011, 391.65), \n",
    "    (2012, 393.85), (2013, 396.52), (2014, 398.65),\n",
    "    (2015, 400.83), (2016, 404.24), (2017, 406.55), \n",
    "    (2018, 408.52), (2019, 411.44), (2020, 414.24)\n",
    "]\n",
    "\n",
    "for i in range(1, len(co2_data)):\n",
    "    year, level = co2_data[i]\n",
    "    prev_year, prev_level = co2_data[i-1]\n",
    "    change = level - prev_level\n",
    "    if change >= 3:\n",
    "        print(f\"{year}: Increase of {change:.2f} ppm\")\n"
   ]
  }
 ],
 "metadata": {
  "kernelspec": {
   "display_name": "base",
   "language": "python",
   "name": "python3"
  },
  "language_info": {
   "codemirror_mode": {
    "name": "ipython",
    "version": 3
   },
   "file_extension": ".py",
   "mimetype": "text/x-python",
   "name": "python",
   "nbconvert_exporter": "python",
   "pygments_lexer": "ipython3",
   "version": "3.13.5"
  },
  "toc": {
   "base_numbering": 1,
   "nav_menu": {},
   "number_sections": true,
   "sideBar": true,
   "skip_h1_title": false,
   "title_cell": "Table of Contents",
   "title_sidebar": "Contents",
   "toc_cell": false,
   "toc_position": {},
   "toc_section_display": true,
   "toc_window_display": false
  }
 },
 "nbformat": 4,
 "nbformat_minor": 5
}
