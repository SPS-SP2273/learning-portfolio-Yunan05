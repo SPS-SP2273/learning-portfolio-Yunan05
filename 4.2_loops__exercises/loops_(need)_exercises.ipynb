{
 "cells": [
  {
   "attachments": {},
   "cell_type": "markdown",
   "id": "123456",
   "metadata": {},
   "source": [
    "<div style=\"text-align:left;font-size:2em\"><span style=\"font-weight:bolder;font-size:1.25em\">SP2273 | Learning Portfolio</span><br><br><span style=\"font-weight:bold;color:darkred\">Loops (Need) Exercises</span></div>"
   ]
  },
  {
   "cell_type": "code",
   "execution_count": 1,
   "id": "ffef11f0",
   "metadata": {},
   "outputs": [
    {
     "name": "stdout",
     "output_type": "stream",
     "text": [
      "0°C = 32.0°F\n",
      "5°C = 41.0°F\n",
      "10°C = 50.0°F\n",
      "15°C = 59.0°F\n",
      "20°C = 68.0°F\n",
      "25°C = 77.0°F\n",
      "30°C = 86.0°F\n",
      "35°C = 95.0°F\n",
      "40°C = 104.0°F\n",
      "45°C = 113.0°F\n",
      "50°C = 122.0°F\n"
     ]
    }
   ],
   "source": [
    "temperatures_celsius = [\n",
    "    0, 5, 10, 15, 20, 25,\n",
    "    30, 35, 40, 45, 50\n",
    "]\n",
    "\n",
    "for c in temperatures_celsius:\n",
    "    f = (9/5) * c + 32\n",
    "    print(f\"{c}°C = {f:.1f}°F\")\n"
   ]
  },
  {
   "cell_type": "code",
   "execution_count": 6,
   "id": "484d27f6",
   "metadata": {},
   "outputs": [
    {
     "name": "stdout",
     "output_type": "stream",
     "text": [
      "1 : 1   2   3   4   5   \n",
      "2 : 2   4   6   8   10  \n",
      "3 : 3   6   9   12  15  \n",
      "4 : 4   8   12  16  20  \n",
      "5 : 5   10  15  20  25  \n"
     ]
    }
   ],
   "source": [
    "for i in range(1, 6):  \n",
    "    print(f\"{i} :\", end=\" \")\n",
    "    for j in range(1, 6): \n",
    "        print(f\"{i*j:<4}\", end=\"\")  \n",
    "    print()  \n"
   ]
  },
  {
   "cell_type": "code",
   "execution_count": 1,
   "id": "ee0daeed",
   "metadata": {},
   "outputs": [
    {
     "name": "stdout",
     "output_type": "stream",
     "text": [
      "No. of Heads: 7\n",
      "No. of Heads: 6\n",
      "No. of Heads: 4\n",
      "No. of Heads: 5\n",
      "No. of Heads: 6\n",
      "No. of Heads: 6\n",
      "No. of Heads: 6\n",
      "No. of Heads: 3\n",
      "No. of Heads: 5\n",
      "No. of Heads: 8\n"
     ]
    }
   ],
   "source": [
    "import numpy as np\n",
    "\n",
    "for i in range(10):\n",
    "    flips = np.random.rand(10)  # 10 coin flips\n",
    "    results = [\"Heads\" if x > 0.5 else \"Tails\" for x in flips]\n",
    "    print(f\"No. of Heads: {results.count('Heads')}\")\n"
   ]
  }
 ],
 "metadata": {
  "kernelspec": {
   "display_name": "base",
   "language": "python",
   "name": "python3"
  },
  "language_info": {
   "codemirror_mode": {
    "name": "ipython",
    "version": 3
   },
   "file_extension": ".py",
   "mimetype": "text/x-python",
   "name": "python",
   "nbconvert_exporter": "python",
   "pygments_lexer": "ipython3",
   "version": "3.13.5"
  },
  "toc": {
   "base_numbering": 1,
   "nav_menu": {},
   "number_sections": true,
   "sideBar": true,
   "skip_h1_title": false,
   "title_cell": "Table of Contents",
   "title_sidebar": "Contents",
   "toc_cell": false,
   "toc_position": {},
   "toc_section_display": true,
   "toc_window_display": false
  }
 },
 "nbformat": 4,
 "nbformat_minor": 5
}
