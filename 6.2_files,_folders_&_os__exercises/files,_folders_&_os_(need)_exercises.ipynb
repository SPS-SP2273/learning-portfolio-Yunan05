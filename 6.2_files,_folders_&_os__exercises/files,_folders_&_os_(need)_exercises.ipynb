{
 "cells": [
  {
   "attachments": {},
   "cell_type": "markdown",
   "id": "123456",
   "metadata": {},
   "source": [
    "<div style=\"text-align:left;font-size:2em\"><span style=\"font-weight:bolder;font-size:1.25em\">SP2273 | Learning Portfolio</span><br><br><span style=\"font-weight:bold;color:darkred\">Files, Folders & OS (Need) Exercises</span></div>"
   ]
  },
  {
   "cell_type": "code",
   "execution_count": 1,
   "id": "75d93647",
   "metadata": {},
   "outputs": [
    {
     "name": "stdout",
     "output_type": "stream",
     "text": [
      "10-08-singapore.txt\n"
     ]
    }
   ],
   "source": [
    "months = {\n",
    "    'jan': '01', 'feb': '02', 'mar': '03',\n",
    "    'apr': '04', 'may': '05', 'jun': '06',\n",
    "    'jul': '07', 'aug': '08', 'sep': '09',\n",
    "    'oct': '10', 'nov': '11', 'dec': '12'\n",
    "}\n",
    "\n",
    "filename = \"oct-08_singapore.txt\"\n",
    "\n",
    "month_day, city_ext = filename.split(\"_\")     \n",
    "month, day = month_day.split(\"-\")             \n",
    "city = city_ext.split(\".\")[0]                 \n",
    "\n",
    "month_num = months[month]\n",
    "\n",
    "new_filename = f\"{month_num}-{day}-{city}.txt\"\n",
    "\n",
    "print(new_filename)  \n"
   ]
  },
  {
   "cell_type": "code",
   "execution_count": 2,
   "id": "9cd1aca3",
   "metadata": {},
   "outputs": [],
   "source": [
    "def rename_my_file(old_file_name):\n",
    "    months = {\n",
    "        'jan': '01', 'feb': '02', 'mar': '03',\n",
    "        'apr': '04', 'may': '05', 'jun': '06',\n",
    "        'jul': '07', 'aug': '08', 'sep': '09',\n",
    "        'oct': '10', 'nov': '11', 'dec': '12'\n",
    "    }\n",
    "\n",
    "    month_day, city_ext = old_file_name.split(\"_\")    \n",
    "    month, day = month_day.split(\"-\")                \n",
    "    city = city_ext.split(\".\")[0]                      \n",
    "\n",
    "    month_num = months[month]\n",
    "\n",
    "    new_filename = f\"{month_num}-{day}-{city}.txt\"\n",
    "    return new_filename"
   ]
  },
  {
   "cell_type": "code",
   "execution_count": 3,
   "id": "274afe2f",
   "metadata": {},
   "outputs": [
    {
     "name": "stdout",
     "output_type": "stream",
     "text": [
      "oct-08_singapore.txt ----> 10-08-singapore.txt\n",
      "jul-10_cairo.txt ----> 07-10-cairo.txt\n",
      "may-15_dhaka.txt ----> 05-15-dhaka.txt\n",
      "may-13_cairo.txt ----> 05-13-cairo.txt\n",
      "oct-21_cairo.txt ----> 10-21-cairo.txt\n",
      "jan-10_singapore.txt ----> 01-10-singapore.txt\n",
      "jun-20_tokyo.txt ----> 06-20-tokyo.txt\n",
      "aug-06_jakarta.txt ----> 08-06-jakarta.txt\n",
      "dec-21_karachi.txt ----> 12-21-karachi.txt\n",
      "jan-01_tokyo.txt ----> 01-01-tokyo.txt\n"
     ]
    }
   ],
   "source": [
    "def rename_my_file(old_file_name):\n",
    "    months = {\n",
    "        'jan': '01', 'feb': '02', 'mar': '03',\n",
    "        'apr': '04', 'may': '05', 'jun': '06',\n",
    "        'jul': '07', 'aug': '08', 'sep': '09',\n",
    "        'oct': '10', 'nov': '11', 'dec': '12'\n",
    "    }\n",
    "\n",
    "    month_day, city_ext = old_file_name.split(\"_\")\n",
    "    month, day = month_day.split(\"-\")\n",
    "    city = city_ext.split(\".\")[0]\n",
    "    month_num = months[month]\n",
    "    return f\"{month_num}-{day}-{city}.txt\"\n",
    "\n",
    "\n",
    "file_list = [\n",
    "    'oct-08_singapore.txt', 'jul-10_cairo.txt', 'may-15_dhaka.txt',\n",
    "    'may-13_cairo.txt', 'oct-21_cairo.txt', 'jan-10_singapore.txt',\n",
    "    'jun-20_tokyo.txt', 'aug-06_jakarta.txt', 'dec-21_karachi.txt',\n",
    "    'jan-01_tokyo.txt'\n",
    "]\n",
    "\n",
    "for old_file in file_list:\n",
    "    new_file = rename_my_file(old_file)\n",
    "    print(f\"{old_file} ----> {new_file}\")\n"
   ]
  },
  {
   "cell_type": "code",
   "execution_count": 4,
   "id": "f09d92a1",
   "metadata": {},
   "outputs": [],
   "source": [
    "import glob\n",
    "import os\n",
    "\n",
    "def rename_my_file(old_file_name):\n",
    "    months = {\n",
    "        'jan': '01', 'feb': '02', 'mar': '03',\n",
    "        'apr': '04', 'may': '05', 'jun': '06',\n",
    "        'jul': '07', 'aug': '08', 'sep': '09',\n",
    "        'oct': '10', 'nov': '11', 'dec': '12'\n",
    "    }\n",
    "\n",
    "    month_day, city_ext = old_file_name.split(\"_\")\n",
    "    month, day = month_day.split(\"-\")\n",
    "    city, ext = os.path.splitext(city_ext)\n",
    "\n",
    "    if month.isdigit():\n",
    "        month_num = month   \n",
    "    else:\n",
    "        month_num = months[month]  \n",
    "\n",
    "    return f\"{month_num}-{day}-{city}{ext}\"\n",
    "\n",
    "\n",
    "for file in glob.glob(\"*.txt\"):\n",
    "    new_name = rename_my_file(file)\n",
    "    os.rename(file, new_name)\n",
    "    print(f\"{file} ----> {new_name}\")\n"
   ]
  },
  {
   "cell_type": "code",
   "execution_count": 5,
   "id": "a9290709",
   "metadata": {},
   "outputs": [
    {
     "name": "stdout",
     "output_type": "stream",
     "text": [
      "Folder created: Cairo\n",
      "Folder created: Dhaka\n",
      "Folder created: Jakarta\n",
      "Folder created: Karachi\n",
      "Folder created: Manila\n",
      "Folder created: Melbourne\n",
      "Folder created: Osaka\n",
      "Folder created: Shanghai\n",
      "Folder created: Singapore\n",
      "Folder created: Tokyo\n"
     ]
    }
   ],
   "source": [
    "import os\n",
    "\n",
    "cities = [\n",
    "    'Cairo', 'Dhaka', 'Jakarta', 'Karachi', 'Manila',\n",
    "    'Melbourne', 'Osaka', 'Shanghai', 'Singapore', 'Tokyo'\n",
    "]\n",
    "\n",
    "for city in cities:\n",
    "    os.makedirs(city, exist_ok=True)   \n",
    "    print(f\"Folder created: {city}\")\n"
   ]
  },
  {
   "cell_type": "code",
   "execution_count": 6,
   "id": "86776f24",
   "metadata": {},
   "outputs": [],
   "source": [
    "cairo_files = glob.glob(\"*cairo.txt\")\n",
    "\n",
    "os.makedirs(\"Cairo\", exist_ok=True)\n",
    "\n",
    "for file in cairo_files:\n",
    "    shutil.copy(file, \"Cairo\")\n",
    "    print(f\"Copied {file} ----> Cairo/\")\n"
   ]
  }
 ],
 "metadata": {
  "kernelspec": {
   "display_name": "base",
   "language": "python",
   "name": "python3"
  },
  "language_info": {
   "codemirror_mode": {
    "name": "ipython",
    "version": 3
   },
   "file_extension": ".py",
   "mimetype": "text/x-python",
   "name": "python",
   "nbconvert_exporter": "python",
   "pygments_lexer": "ipython3",
   "version": "3.13.5"
  },
  "toc": {
   "base_numbering": 1,
   "nav_menu": {},
   "number_sections": true,
   "sideBar": true,
   "skip_h1_title": false,
   "title_cell": "Table of Contents",
   "title_sidebar": "Contents",
   "toc_cell": false,
   "toc_position": {},
   "toc_section_display": true,
   "toc_window_display": false
  }
 },
 "nbformat": 4,
 "nbformat_minor": 5
}
