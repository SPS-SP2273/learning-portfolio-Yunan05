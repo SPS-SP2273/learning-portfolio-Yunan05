{
 "cells": [
  {
   "attachments": {},
   "cell_type": "markdown",
   "id": "123456",
   "metadata": {},
   "source": [
    "<div style=\"text-align:left;font-size:2em\"><span style=\"font-weight:bolder;font-size:1.25em\">SP2273 | Learning Portfolio</span><br><br><span style=\"font-weight:bold;color:darkred\">Using Jupyter (Need), Exercises</span></div>"
   ]
  },
  {
   "attachments": {},
   "cell_type": "markdown",
   "id": "123456",
   "metadata": {},
   "source": [
    "## 1 Quadratic Equations"
   ]
  },
  {
   "attachments": {},
   "cell_type": "markdown",
   "id": "123456",
   "metadata": {},
   "source": [
    "### Introduction"
   ]
  },
  {
   "attachments": {
    "image.png": {
     "image/png": "[encoded data removed]"
    }
   },
   "cell_type": "markdown",
   "id": "92afaee1",
   "metadata": {},
   "source": [
    "![image.png](attachment:image.png)"
   ]
  },
  {
   "cell_type": "markdown",
   "id": "7628de25",
   "metadata": {},
   "source": [
    "The general form of a quadratic equation is:\n",
    "\n",
    "$ax^2+bx+c=0$"
   ]
  },
  {
   "attachments": {},
   "cell_type": "markdown",
   "id": "123456",
   "metadata": {},
   "source": [
    "### Solutions"
   ]
  },
  {
   "cell_type": "markdown",
   "id": "85cfcc9f",
   "metadata": {},
   "source": [
    "Provided $a\\ne 0$, we can use an elementary algebraic method called [**completing the square**](https://en.wikipedia.org/wiki/Completing_the_square) to show that a quadratic equation has the following solution:"
   ]
  },
  {
   "cell_type": "markdown",
   "id": "926a8363",
   "metadata": {},
   "source": [
    "$$\n",
    "x = \\frac{-b \\pm \\sqrt{b^2 - 4ac}}{2a}\n",
    "$$"
   ]
  },
  {
   "attachments": {},
   "cell_type": "markdown",
   "id": "123456",
   "metadata": {},
   "source": [
    "### Discriminant"
   ]
  },
  {
   "cell_type": "markdown",
   "id": "0e480915",
   "metadata": {},
   "source": [
    "The quantity $∆=b^2-4ac$\n",
    " is called the **discriminant** of the equation and decides the nature of its solutions. The table below shows the various possibilities."
   ]
  },
  {
   "cell_type": "markdown",
   "id": "88525db3",
   "metadata": {},
   "source": [
    "|**Discriminant**|**Roots**|\n",
    "|:---:|:---:|\n",
    "|$∆=b^2-4ac=0$|A single solution of $-b/(2a)$|\n",
    "|$∆=b^2-4ac \\gt 0$|Two distinct solutions|\n",
    "|$∆=b^2-4ac \\lt 0$|No real solutions; both are complex.|\n"
   ]
  },
  {
   "cell_type": "markdown",
   "id": "137d0f69",
   "metadata": {},
   "source": [
    "1. Git repository is a storage space where Git keeps track of all the files in a project and the history of changes made to those files.\n",
    "2. Changes\n",
    "3. A commit is like saving the project at its present moment. It saves the current state of the files along with a message describing what was changed.\n",
    "4. A push is to send the local commits to a remote repository so others can see and access them.\n",
    "5. A pull is to download the latest changes from a remote repository to my own local copy, so my own version is up to date with others' work.\n",
    "6. GitHub is a website and cloud platform where I can store my files and collaborate with others on the Git repository while GitHub Desktop is an application that I install on my computer to help me use Github without me typing commands in the terminal."
   ]
  },
  {
   "cell_type": "markdown",
   "id": "776b916b",
   "metadata": {},
   "source": [
    "Exercise 3 (A Matter of Statistics) The mean (μ\n",
    "), standard deviation (σ\n",
    "), and Pearson correlation coefficient (ρ\n",
    ") are important statistical parameters. Given variables \n",
    " and \n",
    " representing the \n",
    "-th values in a dataset with \n",
    " pairs, use Markdown notation to write the equations for these parameters.\n",
    "\n",
    "Your equations should ideally look like the following. You might find this resource from Rice University useful."
   ]
  },
  {
   "cell_type": "markdown",
   "id": "581774fc",
   "metadata": {},
   "source": [
    "$μ= \\frac{1}{n} \\sum_{i=1}^{n} x_i$"
   ]
  },
  {
   "cell_type": "markdown",
   "id": "4a4dff28",
   "metadata": {},
   "source": [
    "$σ = \\sqrt{ \\frac{1}{n - 1} \\sum_{i=1}^{n} (x_i -μ )^2 }$"
   ]
  },
  {
   "cell_type": "markdown",
   "id": "186fbc05",
   "metadata": {},
   "source": [
    "$$\n",
    "r = \\frac{ \\sum_{i=1}^{n} (x_i - \\mu_X)(y_i - \\mu_Y) }{ \\sqrt{ \\sum_{i=1}^{n} (x_i - \\mu_X)^2 \\cdot \\sum_{i=1}^{n} (y_i - \\mu_Y)^2 } }\n",
    "$$"
   ]
  },
  {
   "cell_type": "code",
   "execution_count": null,
   "id": "c58d6ef0",
   "metadata": {},
   "outputs": [],
   "source": []
  }
 ],
 "metadata": {
  "kernelspec": {
   "display_name": "base",
   "language": "python",
   "name": "python3"
  },
  "language_info": {
   "codemirror_mode": {
    "name": "ipython",
    "version": 3
   },
   "file_extension": ".py",
   "mimetype": "text/x-python",
   "name": "python",
   "nbconvert_exporter": "python",
   "pygments_lexer": "ipython3",
   "version": "3.13.5"
  },
  "toc": {
   "base_numbering": 1,
   "nav_menu": {},
   "number_sections": true,
   "sideBar": true,
   "skip_h1_title": false,
   "title_cell": "Table of Contents",
   "title_sidebar": "Contents",
   "toc_cell": false,
   "toc_position": {},
   "toc_section_display": true,
   "toc_window_display": false
  }
 },
 "nbformat": 4,
 "nbformat_minor": 5
}
